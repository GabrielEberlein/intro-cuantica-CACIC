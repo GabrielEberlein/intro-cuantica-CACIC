{
 "cells": [
  {
   "cell_type": "code",
   "execution_count": 1,
   "metadata": {
    "id": "5518e6f1"
   },
   "outputs": [],
   "source": [
    "from qiskit import QuantumRegister, ClassicalRegister, QuantumCircuit\n",
    "from numpy import pi"
   ]
  },
  {
   "cell_type": "markdown",
   "metadata": {},
   "source": [
    "# ALGORITMO DE CODIFICACIÓN SUPERDENSA"
   ]
  },
  {
   "cell_type": "code",
   "execution_count": 2,
   "metadata": {},
   "outputs": [],
   "source": [
    "crA = ClassicalRegister(2,'bitsAlice')\n",
    "qr = QuantumRegister(2,'qr')\n",
    "crB = ClassicalRegister(2,'bitsBob')\n",
    "qc = QuantumCircuit(crA,qr,crB)"
   ]
  },
  {
   "cell_type": "markdown",
   "metadata": {},
   "source": [
    "### Preparación de estado\n",
    "* El algoritmo precisa de un par entrelazado"
   ]
  },
  {
   "cell_type": "code",
   "execution_count": 3,
   "metadata": {},
   "outputs": [
    {
     "data": {
      "text/plain": [
       "<qiskit.circuit.instructionset.InstructionSet at 0x7552fd785ba0>"
      ]
     },
     "execution_count": 3,
     "metadata": {},
     "output_type": "execute_result"
    }
   ],
   "source": [
    "qc.h(qr[0])\n",
    "qc.cx(qr[0],qr[1])\n",
    "\n",
    "qc.barrier(qr)"
   ]
  },
  {
   "cell_type": "markdown",
   "metadata": {},
   "source": [
    "### Codificación\n",
    "Para codificar el par de bits, Alice interactura de distintas maneras sobre su mitad del par entrelazado según lo que quiera enviar\n",
    "* 00 -> no hace nada\n",
    "* 01 -> aplica Z a su cubit\n",
    "* 10 -> aplica X a su cubit\n",
    "* 11 -> aplica iY a su cubit (esto es equivalente a aplicar X y luego Z)\n",
    "\n",
    "Una vez hecho esto Alice envia su cubit a Bob"
   ]
  },
  {
   "cell_type": "code",
   "execution_count": 4,
   "metadata": {},
   "outputs": [
    {
     "data": {
      "text/plain": [
       "<qiskit.circuit.instructionset.InstructionSet at 0x75531c0ba650>"
      ]
     },
     "execution_count": 4,
     "metadata": {},
     "output_type": "execute_result"
    }
   ],
   "source": [
    "with qc.if_test((crA[1],1)):\n",
    "    qc.x(qr[0])\n",
    "with qc.if_test((crA[0],1)):\n",
    "    qc.z(qr[0])\n",
    "\n",
    "qc.barrier(qr)"
   ]
  },
  {
   "cell_type": "markdown",
   "metadata": {},
   "source": [
    "Por ultimo, cuando Bob ya tiene el par entrelazado completo, puede decodificarlo aplicando un CNOT y luego un H, generando un estado que siempre colapsara al par de bits que Alice quería mandar "
   ]
  },
  {
   "cell_type": "code",
   "execution_count": 5,
   "metadata": {},
   "outputs": [
    {
     "data": {
      "text/plain": [
       "<qiskit.circuit.instructionset.InstructionSet at 0x7552fafc4ac0>"
      ]
     },
     "execution_count": 5,
     "metadata": {},
     "output_type": "execute_result"
    }
   ],
   "source": [
    "qc.cx(qr[0],qr[1])\n",
    "qc.h(qr[0])\n",
    "\n",
    "qc.barrier(qr)\n",
    "\n",
    "qc.measure(qr[0],crB[0])\n",
    "qc.measure(qr[1],crB[1])"
   ]
  },
  {
   "cell_type": "code",
   "execution_count": 6,
   "metadata": {},
   "outputs": [
    {
     "data": {
      "image/png": "[encoded data removed]",
      "text/plain": [
       "<Figure size 1293.34x367.889 with 1 Axes>"
      ]
     },
     "execution_count": 6,
     "metadata": {},
     "output_type": "execute_result"
    }
   ],
   "source": [
    "qc.draw(\"mpl\")"
   ]
  },
  {
   "cell_type": "markdown",
   "metadata": {
    "id": "ltSznsW2gvne"
   },
   "source": [
    "# ALGORITMO DE TELETRANSPORTACIÓN"
   ]
  },
  {
   "cell_type": "code",
   "execution_count": 7,
   "metadata": {
    "id": "72950d1e"
   },
   "outputs": [],
   "source": [
    "qr = QuantumRegister(3, 'qr')\n",
    "cr = ClassicalRegister(2, 'cr')\n",
    "qc = QuantumCircuit(qr, cr)"
   ]
  },
  {
   "cell_type": "markdown",
   "metadata": {
    "id": "01fce9f3"
   },
   "source": [
    "### Preparación de estado\n",
    "\n",
    "*   Generamos el par entrelazado de Alice y Bob\n",
    "*   Generamos un cubit arbitrario para teletransportar"
   ]
  },
  {
   "cell_type": "code",
   "execution_count": 8,
   "metadata": {
    "colab": {
     "base_uri": "https://localhost:8080/"
    },
    "id": "bffbf032",
    "outputId": "98e99a43-c9c8-4beb-f7b8-ad229ed0752a"
   },
   "outputs": [
    {
     "data": {
      "text/plain": [
       "<qiskit.circuit.instructionset.InstructionSet at 0x7552fd1887c0>"
      ]
     },
     "execution_count": 8,
     "metadata": {},
     "output_type": "execute_result"
    }
   ],
   "source": [
    "# cubit arbitrario\n",
    "qc.u(pi / 4, 0, 0, qr[0])\n",
    "\n",
    "qc.barrier(qr)\n",
    "\n",
    "# par entrelazado\n",
    "qc.h(qr[1])\n",
    "qc.cx(qr[1], qr[2])\n",
    "\n",
    "qc.barrier(qr)"
   ]
  },
  {
   "cell_type": "markdown",
   "metadata": {
    "id": "bbab142a"
   },
   "source": [
    "### Interacción de Alice\n",
    "\n",
    "* Alice interacciona su mitad del par con el cubit a teletransportar\n",
    "* Alice colapsa los cubits y envía lo observado a Bob\n"
   ]
  },
  {
   "cell_type": "code",
   "execution_count": 9,
   "metadata": {
    "colab": {
     "base_uri": "https://localhost:8080/"
    },
    "id": "5c0697c5",
    "outputId": "ad234b01-83f5-4347-f1ab-3efe39fbd017"
   },
   "outputs": [
    {
     "data": {
      "text/plain": [
       "<qiskit.circuit.instructionset.InstructionSet at 0x7552f9d58790>"
      ]
     },
     "execution_count": 9,
     "metadata": {},
     "output_type": "execute_result"
    }
   ],
   "source": [
    "# interacción\n",
    "qc.cx(qr[0], qr[1])\n",
    "qc.h(qr[0])\n",
    "\n",
    "qc.barrier(qr)\n",
    "\n",
    "# medición\n",
    "qc.measure(qr[0], cr[0])\n",
    "qc.measure(qr[1], cr[1])"
   ]
  },
  {
   "cell_type": "markdown",
   "metadata": {
    "id": "a0da4a89"
   },
   "source": [
    "### Recuperación de Bob\n",
    "\n",
    "* Leyendo los bits que envía Alice, Bob puede recuperar el cubit arbitrario\n"
   ]
  },
  {
   "cell_type": "code",
   "execution_count": 10,
   "metadata": {
    "colab": {
     "base_uri": "https://localhost:8080/",
     "height": 162
    },
    "id": "35e4d84d",
    "outputId": "7ea85be7-b000-4b19-dc07-d1563d4c2df2"
   },
   "outputs": [],
   "source": [
    "with qc.if_test((cr[0],1)):\n",
    "    qc.z(qr[2])\n",
    "with qc.if_test((cr[1],1)):\n",
    "    qc.x(qr[2])"
   ]
  },
  {
   "cell_type": "code",
   "execution_count": 11,
   "metadata": {
    "id": "ESqgQImL5JV6",
    "scrolled": true
   },
   "outputs": [
    {
     "data": {
      "image/png": "[encoded data removed]",
      "text/plain": [
       "<Figure size 1302.85x367.889 with 1 Axes>"
      ]
     },
     "execution_count": 11,
     "metadata": {},
     "output_type": "execute_result"
    }
   ],
   "source": [
    "qc.draw(\"mpl\")"
   ]
  }
 ],
 "metadata": {
  "colab": {
   "provenance": []
  },
  "kernelspec": {
   "display_name": "Python 3 (ipykernel)",
   "language": "python",
   "name": "python3"
  },
  "language_info": {
   "codemirror_mode": {
    "name": "ipython",
    "version": 3
   },
   "file_extension": ".py",
   "mimetype": "text/x-python",
   "name": "python",
   "nbconvert_exporter": "python",
   "pygments_lexer": "ipython3",
   "version": "3.12.3"
  }
 },
 "nbformat": 4,
 "nbformat_minor": 4
}
