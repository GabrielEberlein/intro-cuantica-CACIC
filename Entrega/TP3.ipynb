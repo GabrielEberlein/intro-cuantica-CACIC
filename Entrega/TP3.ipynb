{
 "cells": [
  {
   "cell_type": "code",
   "execution_count": 1,
   "id": "MjXqPU3NNRdK",
   "metadata": {
    "colab": {
     "base_uri": "https://localhost:8080/"
    },
    "id": "MjXqPU3NNRdK",
    "outputId": "05dfaca3-96f6-4c60-92e0-f3e92b308187"
   },
   "outputs": [
    {
     "name": "stdout",
     "output_type": "stream",
     "text": [
      "Requirement already satisfied: qiskit in ./.venv/lib/python3.12/site-packages (2.2.1)\n",
      "Requirement already satisfied: qiskit-aer in ./.venv/lib/python3.12/site-packages (0.17.2)\n",
      "Requirement already satisfied: qiskit-ibm-runtime in ./.venv/lib/python3.12/site-packages (0.43.0)\n",
      "Requirement already satisfied: ipywidgets in ./.venv/lib/python3.12/site-packages (8.1.7)\n",
      "Requirement already satisfied: pylatexenc in ./.venv/lib/python3.12/site-packages (2.10)\n",
      "Requirement already satisfied: rustworkx>=0.15.0 in ./.venv/lib/python3.12/site-packages (from qiskit) (0.17.1)\n",
      "Requirement already satisfied: numpy<3,>=1.17 in ./.venv/lib/python3.12/site-packages (from qiskit) (2.3.3)\n",
      "Requirement already satisfied: scipy>=1.5 in ./.venv/lib/python3.12/site-packages (from qiskit) (1.16.2)\n",
      "Requirement already satisfied: dill>=0.3 in ./.venv/lib/python3.12/site-packages (from qiskit) (0.4.0)\n",
      "Requirement already satisfied: stevedore>=3.0.0 in ./.venv/lib/python3.12/site-packages (from qiskit) (5.5.0)\n",
      "Requirement already satisfied: typing-extensions in ./.venv/lib/python3.12/site-packages (from qiskit) (4.15.0)\n",
      "Requirement already satisfied: psutil>=5 in ./.venv/lib/python3.12/site-packages (from qiskit-aer) (7.1.0)\n",
      "Requirement already satisfied: python-dateutil>=2.8.0 in ./.venv/lib/python3.12/site-packages (from qiskit-aer) (2.9.0.post0)\n",
      "Requirement already satisfied: requests>=2.19 in ./.venv/lib/python3.12/site-packages (from qiskit-ibm-runtime) (2.32.5)\n",
      "Requirement already satisfied: requests-ntlm>=1.1.0 in ./.venv/lib/python3.12/site-packages (from qiskit-ibm-runtime) (1.3.0)\n",
      "Requirement already satisfied: urllib3>=1.21.1 in ./.venv/lib/python3.12/site-packages (from qiskit-ibm-runtime) (2.5.0)\n",
      "Requirement already satisfied: ibm-platform-services>=0.22.6 in ./.venv/lib/python3.12/site-packages (from qiskit-ibm-runtime) (0.69.0)\n",
      "Requirement already satisfied: pydantic>=2.5.0 in ./.venv/lib/python3.12/site-packages (from qiskit-ibm-runtime) (2.12.3)\n",
      "Requirement already satisfied: packaging in ./.venv/lib/python3.12/site-packages (from qiskit-ibm-runtime) (25.0)\n",
      "Requirement already satisfied: comm>=0.1.3 in ./.venv/lib/python3.12/site-packages (from ipywidgets) (0.2.3)\n",
      "Requirement already satisfied: ipython>=6.1.0 in ./.venv/lib/python3.12/site-packages (from ipywidgets) (9.6.0)\n",
      "Requirement already satisfied: traitlets>=4.3.1 in ./.venv/lib/python3.12/site-packages (from ipywidgets) (5.14.3)\n",
      "Requirement already satisfied: widgetsnbextension~=4.0.14 in ./.venv/lib/python3.12/site-packages (from ipywidgets) (4.0.14)\n",
      "Requirement already satisfied: jupyterlab_widgets~=3.0.15 in ./.venv/lib/python3.12/site-packages (from ipywidgets) (3.0.15)\n",
      "Requirement already satisfied: ibm_cloud_sdk_core<4.0.0,>=3.24.2 in ./.venv/lib/python3.12/site-packages (from ibm-platform-services>=0.22.6->qiskit-ibm-runtime) (3.24.2)\n",
      "Requirement already satisfied: decorator in ./.venv/lib/python3.12/site-packages (from ipython>=6.1.0->ipywidgets) (5.2.1)\n",
      "Requirement already satisfied: ipython-pygments-lexers in ./.venv/lib/python3.12/site-packages (from ipython>=6.1.0->ipywidgets) (1.1.1)\n",
      "Requirement already satisfied: jedi>=0.16 in ./.venv/lib/python3.12/site-packages (from ipython>=6.1.0->ipywidgets) (0.19.2)\n",
      "Requirement already satisfied: matplotlib-inline in ./.venv/lib/python3.12/site-packages (from ipython>=6.1.0->ipywidgets) (0.1.7)\n",
      "Requirement already satisfied: pexpect>4.3 in ./.venv/lib/python3.12/site-packages (from ipython>=6.1.0->ipywidgets) (4.9.0)\n",
      "Requirement already satisfied: prompt_toolkit<3.1.0,>=3.0.41 in ./.venv/lib/python3.12/site-packages (from ipython>=6.1.0->ipywidgets) (3.0.52)\n",
      "Requirement already satisfied: pygments>=2.4.0 in ./.venv/lib/python3.12/site-packages (from ipython>=6.1.0->ipywidgets) (2.19.2)\n",
      "Requirement already satisfied: stack_data in ./.venv/lib/python3.12/site-packages (from ipython>=6.1.0->ipywidgets) (0.6.3)\n",
      "Requirement already satisfied: annotated-types>=0.6.0 in ./.venv/lib/python3.12/site-packages (from pydantic>=2.5.0->qiskit-ibm-runtime) (0.7.0)\n",
      "Requirement already satisfied: pydantic-core==2.41.4 in ./.venv/lib/python3.12/site-packages (from pydantic>=2.5.0->qiskit-ibm-runtime) (2.41.4)\n",
      "Requirement already satisfied: typing-inspection>=0.4.2 in ./.venv/lib/python3.12/site-packages (from pydantic>=2.5.0->qiskit-ibm-runtime) (0.4.2)\n",
      "Requirement already satisfied: six>=1.5 in ./.venv/lib/python3.12/site-packages (from python-dateutil>=2.8.0->qiskit-aer) (1.17.0)\n",
      "Requirement already satisfied: charset_normalizer<4,>=2 in ./.venv/lib/python3.12/site-packages (from requests>=2.19->qiskit-ibm-runtime) (3.4.3)\n",
      "Requirement already satisfied: idna<4,>=2.5 in ./.venv/lib/python3.12/site-packages (from requests>=2.19->qiskit-ibm-runtime) (3.11)\n",
      "Requirement already satisfied: certifi>=2017.4.17 in ./.venv/lib/python3.12/site-packages (from requests>=2.19->qiskit-ibm-runtime) (2025.10.5)\n",
      "Requirement already satisfied: cryptography>=1.3 in ./.venv/lib/python3.12/site-packages (from requests-ntlm>=1.1.0->qiskit-ibm-runtime) (46.0.3)\n",
      "Requirement already satisfied: pyspnego>=0.4.0 in ./.venv/lib/python3.12/site-packages (from requests-ntlm>=1.1.0->qiskit-ibm-runtime) (0.12.0)\n",
      "Requirement already satisfied: cffi>=2.0.0 in ./.venv/lib/python3.12/site-packages (from cryptography>=1.3->requests-ntlm>=1.1.0->qiskit-ibm-runtime) (2.0.0)\n",
      "Requirement already satisfied: PyJWT<3.0.0,>=2.10.1 in ./.venv/lib/python3.12/site-packages (from ibm_cloud_sdk_core<4.0.0,>=3.24.2->ibm-platform-services>=0.22.6->qiskit-ibm-runtime) (2.10.1)\n",
      "Requirement already satisfied: parso<0.9.0,>=0.8.4 in ./.venv/lib/python3.12/site-packages (from jedi>=0.16->ipython>=6.1.0->ipywidgets) (0.8.5)\n",
      "Requirement already satisfied: ptyprocess>=0.5 in ./.venv/lib/python3.12/site-packages (from pexpect>4.3->ipython>=6.1.0->ipywidgets) (0.7.0)\n",
      "Requirement already satisfied: wcwidth in ./.venv/lib/python3.12/site-packages (from prompt_toolkit<3.1.0,>=3.0.41->ipython>=6.1.0->ipywidgets) (0.2.14)\n",
      "Requirement already satisfied: executing>=1.2.0 in ./.venv/lib/python3.12/site-packages (from stack_data->ipython>=6.1.0->ipywidgets) (2.2.1)\n",
      "Requirement already satisfied: asttokens>=2.1.0 in ./.venv/lib/python3.12/site-packages (from stack_data->ipython>=6.1.0->ipywidgets) (3.0.0)\n",
      "Requirement already satisfied: pure-eval in ./.venv/lib/python3.12/site-packages (from stack_data->ipython>=6.1.0->ipywidgets) (0.2.3)\n",
      "Requirement already satisfied: pycparser in ./.venv/lib/python3.12/site-packages (from cffi>=2.0.0->cryptography>=1.3->requests-ntlm>=1.1.0->qiskit-ibm-runtime) (2.23)\n"
     ]
    }
   ],
   "source": [
    "!pip install qiskit qiskit-aer qiskit-ibm-runtime ipywidgets pylatexenc\n"
   ]
  },
  {
   "cell_type": "markdown",
   "id": "0e5c8744",
   "metadata": {
    "id": "0e5c8744"
   },
   "source": [
    "# TP3 – Algoritmo de Bernstein–Vazirani"
   ]
  },
  {
   "cell_type": "markdown",
   "id": "c9d163f2",
   "metadata": {
    "id": "c9d163f2"
   },
   "source": [
    "\n",
    "En esta notebook se presenta e implementa el algoritmo de Bernstein-Vazirani para dar una aplicación del algoritmo de Deutsch-Jozsa como se muestra al final de la sección sobre el mismo en el curso de *Fundamentals of Quantum Algorithms* de IBM.\n",
    "\n",
    "**Fuente:** https://quantum.cloud.ibm.com/learning/en/courses/fundamentals-of-quantum-algorithms/quantum-query-algorithms/deutsch-jozsa-algorithm\n",
    "\n",
    "---\n",
    "\n",
    "## Introducción del problema\n",
    "\n",
    "Dada una función $f:\\{0,1\\}^n→\\{0,1\\}$, el **algoritmo de Bernstein–Vazirani** busca descubrir una cadena binaria secreta $ s \\in \\{0,1\\}^n $ tal que,\n",
    "\n",
    "$$\n",
    "f(x) = s \\cdot x \\;\\; \\left(\\forall x\\in\\{0,1\\}^n\\right)\n",
    "$$\n",
    "\n",
    "donde $ s \\cdot x $ es el producto escalar bit a bit.\n",
    "\n",
    "En la versión **clásica**, se necesitan al menos **$ \\mathbf{n} $ consultas** para descubrir todos los bits de $ s $. (Con una máscara apropiada como argumento de f se puede descubrir cada bit de la cadena de manera individual)  \n",
    "En la versión **cuántica**, el algoritmo lo logra con **una sola consulta** al oráculo cuántico.\n",
    "\n",
    "---\n",
    "\n",
    "## Idea general del algoritmo\n",
    "\n",
    "1. Preparamos $ n+1 $ qubits en el estado $ |1\\rangle|0\\rangle^{\\otimes n} $.\n",
    "2. Aplicamos **puertas Hadamard** a todos los qubits obteniendo el estado\n",
    "$$|-\\rangle \\otimes \\dfrac{1}{\\sqrt{2^n}}\\sum_{x\\in\\{0,1\\}^n}|x\\rangle. $$\n",
    "3. Aplicamos el **oráculo** que implementa la función $ f(x) $.\n",
    "4. Aplicamos Hadamard nuevamente a los $ n $ primeros qubits.\n",
    "5. Medimos.  \n",
    "   El resultado medido en los primeros $ n $ qubits es exactamente la cadena secreta $ s $.\n",
    "\n",
    "---\n",
    "## Razonamiento\n",
    "\n",
    "Las matemáticas de porque esto funciona estan descriptas en el enlace de la fuente pero lo importante es notar que estos pasos describen el uso del circuito planteado en el algoritmo Deutsch-Josza para un oráculo $U_f$ que debemos determinar según la secuencia $s$ que oculta."
   ]
  },
  {
   "cell_type": "markdown",
   "id": "a91dc393",
   "metadata": {
    "id": "a91dc393"
   },
   "source": [
    "## Implementación en Qiskit\n",
    "Defino la función que toma un oráculo $U_f$ y lo introduce al algoritmo de Deutsch-Josza"
   ]
  },
  {
   "cell_type": "code",
   "execution_count": 2,
   "id": "5eJBWxn7hnsE",
   "metadata": {
    "id": "5eJBWxn7hnsE"
   },
   "outputs": [],
   "source": [
    "from qiskit import QuantumCircuit\n",
    "\n",
    "def compile_circuit(function: QuantumCircuit):\n",
    "    # Compiles a circuit for use in the Deutsch-Jozsa algorithm.\n",
    "\n",
    "    n = function.num_qubits - 1\n",
    "    qc = QuantumCircuit(n + 1, n)\n",
    "    qc.x(n)\n",
    "    qc.h(range(n + 1))\n",
    "    qc.compose(function, inplace=True)\n",
    "    qc.h(range(n))\n",
    "    qc.measure(range(n), range(n))\n",
    "    return qc"
   ]
  },
  {
   "cell_type": "markdown",
   "id": "v8YIChS8hw4K",
   "metadata": {
    "id": "v8YIChS8hw4K"
   },
   "source": [
    "Defino la query gate correspondiente a la cadena $s$ a descubrir"
   ]
  },
  {
   "cell_type": "code",
   "execution_count": 3,
   "id": "x8rVNL4mhuuL",
   "metadata": {
    "colab": {
     "base_uri": "https://localhost:8080/",
     "height": 186
    },
    "id": "x8rVNL4mhuuL",
    "outputId": "4d57de2f-b30b-463b-96d1-ed2459ed8c0d"
   },
   "outputs": [
    {
     "data": {
      "text/html": [
       "<pre style=\"word-wrap: normal;white-space: pre;background: #fff0;line-height: 1.1;font-family: &quot;Courier New&quot;,Courier,monospace\">                    \n",
       "q_0: ──■────────────\n",
       "       │            \n",
       "q_1: ──┼────■───────\n",
       "       │    │       \n",
       "q_2: ──┼────┼───────\n",
       "       │    │       \n",
       "q_3: ──┼────┼────■──\n",
       "     ┌─┴─┐┌─┴─┐┌─┴─┐\n",
       "q_4: ┤ X ├┤ X ├┤ X ├\n",
       "     └───┘└───┘└───┘</pre>"
      ],
      "text/plain": [
       "                    \n",
       "q_0: ──■────────────\n",
       "       │            \n",
       "q_1: ──┼────■───────\n",
       "       │    │       \n",
       "q_2: ──┼────┼───────\n",
       "       │    │       \n",
       "q_3: ──┼────┼────■──\n",
       "     ┌─┴─┐┌─┴─┐┌─┴─┐\n",
       "q_4: ┤ X ├┤ X ├┤ X ├\n",
       "     └───┘└───┘└───┘"
      ]
     },
     "metadata": {},
     "output_type": "display_data"
    }
   ],
   "source": [
    "def bv_query(s):\n",
    "    qc = QuantumCircuit(len(s) + 1)\n",
    "    for index, bit in enumerate(reversed(s)):\n",
    "        if bit == \"1\":\n",
    "            qc.cx(index, len(s))\n",
    "    return qc\n",
    "\n",
    "\n",
    "display(bv_query(\"1011\").draw(output=\"text\"))"
   ]
  },
  {
   "cell_type": "markdown",
   "id": "OxtXbbO0irTq",
   "metadata": {
    "id": "OxtXbbO0irTq"
   },
   "source": [
    "Finalmente compilamos el circuito con la compuerta generada segun la cadena $s$ y lo simulamos varias veces para observar que el resultado sea consistente"
   ]
  },
  {
   "cell_type": "code",
   "execution_count": 4,
   "id": "KvZdO3b0isEH",
   "metadata": {
    "colab": {
     "base_uri": "https://localhost:8080/",
     "height": 487
    },
    "id": "KvZdO3b0isEH",
    "outputId": "d5888045-e99e-4f3c-b680-e23e4e8cab5b"
   },
   "outputs": [
    {
     "data": {
      "image/png": "[encoded data removed]",
      "text/plain": [
       "<Figure size 640x480 with 1 Axes>"
      ]
     },
     "execution_count": 4,
     "metadata": {},
     "output_type": "execute_result"
    }
   ],
   "source": [
    "from qiskit_aer import Aer\n",
    "from qiskit.visualization import plot_histogram\n",
    "\n",
    "def bv_algorithm(function: QuantumCircuit):\n",
    "    qc = compile_circuit(function)\n",
    "    sim = Aer.get_backend('qasm_simulator')\n",
    "    result = sim.run(qc, shots=1024, memory=True).result()\n",
    "    return result.get_counts()\n",
    "\n",
    "\n",
    "plot_histogram(bv_algorithm(bv_query(\"1011\")))"
   ]
  },
  {
   "cell_type": "markdown",
   "id": "87a3763f",
   "metadata": {
    "id": "87a3763f"
   },
   "source": [
    "\n",
    "## Interpretación de resultados\n",
    "\n",
    "Podemos ver que  **`s = 1011`** en todas las simulaciones realizadas, esto corresponde exactamente al secreto definido en el oráculo por lo que el algoritmo parece funcionar adecuadamente.\n",
    "\n",
    "De esta forma, el algoritmo **descubre el patrón completo en una sola consulta**, mientras que un algoritmo clásico necesitaría una consulta por bit.\n",
    "\n",
    "---\n",
    "\n",
    "## Conclusiones\n",
    "\n",
    "- El algoritmo de Bernstein–Vazirani es una aplicación clara y útil del algoritmo de Deutsch–Jozsa.\n",
    "- Demuestra el poder de los **oráculos cuánticos** y el **paralelismo cuántico** por sobre los algoritmos clásicos.\n"
   ]
  }
 ],
 "metadata": {
  "colab": {
   "provenance": []
  },
  "kernelspec": {
   "display_name": "Python 3 (ipykernel)",
   "language": "python",
   "name": "python3"
  },
  "language_info": {
   "codemirror_mode": {
    "name": "ipython",
    "version": 3
   },
   "file_extension": ".py",
   "mimetype": "text/x-python",
   "name": "python",
   "nbconvert_exporter": "python",
   "pygments_lexer": "ipython3",
   "version": "3.12.3"
  }
 },
 "nbformat": 4,
 "nbformat_minor": 5
}
